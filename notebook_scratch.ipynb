{
 "cells": [
  {
   "cell_type": "code",
   "execution_count": 94,
   "metadata": {},
   "outputs": [
    {
     "data": {
      "text/plain": [
       "(105,)"
      ]
     },
     "execution_count": 94,
     "metadata": {},
     "output_type": "execute_result"
    }
   ],
   "source": [
    "import os\n",
    "import sys\n",
    "import numpy as np\n",
    "import pandas as pd\n",
    "\n",
    "%matplotlib inline\n",
    "import matplotlib.pyplot as plt\n",
    "\n",
    "pd.set_option('display.max_rows', 100)\n"
   ]
  },
  {
   "cell_type": "code",
   "execution_count": 110,
   "metadata": {},
   "outputs": [
    {
     "name": "stdout",
     "output_type": "stream",
     "text": [
      "Interspeech2021_Condition_1.csv\n",
      "(54,)\n"
     ]
    }
   ],
   "source": [
    "fn = 'Interspeech2021_Condition_1.csv'\n",
    "# fn = 'Interspeech2021_Condition_2.csv'\n",
    "df = pd.read_csv(fn)\n",
    "\n",
    "print(fn)\n",
    "print(df['subject'].unique().shape)\n",
    "\n",
    "map_model_names = {\n",
    "    'BASELINE_WAVENET_snrN20P10': 'wavenet_waveform',\n",
    "    'BASELINE_IDENTITY': 'unprocessed_input',\n",
    "    'BASELINE_GERMAIN_PRETRAINED': 'pretrained_germain',\n",
    "    'BRAIN_012_LAYERS______rand_TASK______UNET_snrN20P10': 'unet_R123',\n",
    "    'BRAIN_012_LAYERS______word_TASK______UNET_snrN20P10_BRAIN_snrInf': 'unet_W123',\n",
    "    'BRAIN_012_LAYERS_audi______TASK______UNET_snrN20P10_BRAIN_snrInf': 'unet_A123',\n",
    "    'BRAIN_012_LAYERS_audi_word_TASK______UNET_snrN20P10_BRAIN_snrInf': 'unet_A123W123',\n",
    "    'BRAIN_0___LAYERS______rand_TASK______UNET_snrN20P10': 'unet_R1',\n",
    "    'BRAIN_0___LAYERS______word_TASK______UNET_snrN20P10_BRAIN_snrInf': 'unet_W1',\n",
    "    'BRAIN_0___LAYERS_audi______TASK______UNET_snrN20P10_BRAIN_snrInf': 'unet_A1',\n",
    "    'BRAIN_0___LAYERS_audi_word_TASK______UNET_snrN20P10_BRAIN_snrInf': 'unet_A1W1',\n",
    "    'BRAIN_____LAYERS_wave______TASK______UNET_snrN20P10': 'unet_waveform',\n",
    "    'BRAIN_____LAYERS_coch______TASK______UNET_snrN20P10': 'unet_cochlear_human',\n",
    "    'germain_dcase_unet_snrN20P10_cleanspeechl1layers': 'unet_germain_deep_features',\n",
    "    'BRAIN_0___LAYERS______word_TASK_word_UNET_snrN20P10_BRAIN_snrInf': 'unet_W1T1',\n",
    "    'brainless_unet_snrN20P10_cleanspeechl1RSB_sr10000_lp00100': 'unet_cochlear_envelopes',\n",
    "    \n",
    "    'brainless_unet_snrN20P10_subbands_erb_n005': 'unet_cochlear_human_n05',\n",
    "    'brainless_unet_snrN20P10_subbands_erb_n010': 'unet_cochlear_human_n10',\n",
    "    'brainless_unet_snrN20P10_subbands_erb_n020': 'unet_cochlear_human_n20',\n",
    "    'brainless_unet_snrN20P10_subbands_erb_n080': 'unet_cochlear_human_n80',\n",
    "    'brainless_unet_snrN20P10_subbands_erb_r': 'unet_cochlear_reverse',\n",
    "    'brainless_unet_snrN20P10_subbands_linear':'unet_cochlear_linear',\n",
    "}\n",
    "\n",
    "map_column_names = {\n",
    "    'sound_idx': 'sound_index',\n",
    "    'subject': 'subject_index',\n",
    "    'SNR': 'snr',\n",
    "    'Naturalness Rating': 'naturalness',\n",
    "    'Sound Name': 'sound_filename',\n",
    "    'Foreground': 'sound_foreground',\n",
    "    'Background Condition': 'sound_background',\n",
    "    'Model Name': 'model',\n",
    "}\n",
    "\n",
    "df_new = df.copy()\n",
    "df_new = df_new.replace({'Model Name': map_model_names})\n",
    "df_new = df_new.drop(columns='Model')\n",
    "df_new = df_new.rename(columns=map_column_names)\n",
    "df_new['sound_index'] = df_new['sound_index'].astype(int)\n",
    "df_new['subject_index'] = df_new['subject_index'].astype(int)\n",
    "df_new['naturalness'] = df_new['naturalness'].astype(int)\n",
    "# df_new['model'].unique()\n",
    "\n",
    "# df_new.to_csv(fn.replace('Condition', 'experiment'))\n"
   ]
  },
  {
   "cell_type": "code",
   "execution_count": 111,
   "metadata": {},
   "outputs": [
    {
     "data": {
      "image/png": "[encoded data removed]",
      "text/plain": [
       "<Figure size 432x288 with 1 Axes>"
      ]
     },
     "metadata": {
      "needs_background": "light"
     },
     "output_type": "display_data"
    }
   ],
   "source": [
    "df_tmp = df_new.groupby(['model', 'snr']).agg({\"naturalness\": [\"count\", \"mean\", \"sem\"]}).reset_index()\n",
    "\n",
    "list_model = [\n",
    "#     'unet_A1',\n",
    "    'unet_A123',\n",
    "#     'unet_A123W123',\n",
    "#     'unet_A1W1',\n",
    "#     'unet_cochlear_human',\n",
    "#     'unet_cochlear_reverse',\n",
    "#     'unet_germain_deep_features',\n",
    "#     'unet_R1',\n",
    "    'unet_R123',\n",
    "#     'unet_W1',\n",
    "#     'unet_W123',\n",
    "    'unet_waveform',\n",
    "]\n",
    "\n",
    "fig, ax = plt.subplots()\n",
    "\n",
    "for model in list_model:\n",
    "    df_tmp_tmp = df_tmp[df_tmp['model'] == model]\n",
    "    \n",
    "    x = df_tmp_tmp['snr'].values\n",
    "    y = df_tmp_tmp['naturalness']['mean'].values\n",
    "    yerr = df_tmp_tmp['naturalness']['sem'].values\n",
    "    \n",
    "    ax.errorbar(x, y, yerr=yerr, label=model)\n",
    "\n",
    "ax.legend()\n",
    "plt.show()\n"
   ]
  },
  {
   "cell_type": "code",
   "execution_count": null,
   "metadata": {},
   "outputs": [],
   "source": []
  }
 ],
 "metadata": {
  "kernelspec": {
   "display_name": "Python 3",
   "language": "python",
   "name": "python3"
  },
  "language_info": {
   "codemirror_mode": {
    "name": "ipython",
    "version": 3
   },
   "file_extension": ".py",
   "mimetype": "text/x-python",
   "name": "python",
   "nbconvert_exporter": "python",
   "pygments_lexer": "ipython3",
   "version": "3.5.2"
  }
 },
 "nbformat": 4,
 "nbformat_minor": 2
}
