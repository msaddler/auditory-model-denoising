{
 "cells": [
  {
   "cell_type": "code",
   "execution_count": 112,
   "metadata": {},
   "outputs": [],
   "source": [
    "import os\n",
    "import sys\n",
    "import glob\n",
    "import numpy as np\n",
    "import pandas as pd\n",
    "\n",
    "import scipy.io.wavfile\n",
    "\n",
    "%matplotlib inline\n",
    "import matplotlib.pyplot as plt\n",
    "\n",
    "import util_cochlear_model\n",
    "\n",
    "pd.set_option('display.max_rows', 100)\n"
   ]
  },
  {
   "cell_type": "code",
   "execution_count": 90,
   "metadata": {},
   "outputs": [
    {
     "data": {
      "text/plain": [
       "array(['pretrained_germain', 'unet_A1', 'unet_A123', 'unet_A123W123',\n",
       "       'unet_A1W1', 'unet_R1', 'unet_R123', 'unet_W1', 'unet_W123',\n",
       "       'unet_W1T1', 'unet_cochlear_envelopes', 'unet_cochlear_human',\n",
       "       'unet_germain_deep_features', 'unet_waveform', 'unprocessed_input',\n",
       "       'wavenet_waveform'], dtype=object)"
      ]
     },
     "execution_count": 90,
     "metadata": {},
     "output_type": "execute_result"
    }
   ],
   "source": [
    "df = pd.read_csv('data/mturk_experiment_1_results_interspeech2021.csv')\n",
    "# df = pd.read_csv('data/mturk_experiment_2_results_interspeech2021.csv')\n",
    "\n",
    "df_tmp = df.groupby(['model', 'snr']).agg({\"naturalness\": [\"count\", \"mean\", \"sem\"]}).reset_index()\n",
    "df_tmp['model'].unique()\n"
   ]
  },
  {
   "cell_type": "code",
   "execution_count": 91,
   "metadata": {},
   "outputs": [
    {
     "data": {
      "image/png": "[encoded data removed]",
      "text/plain": [
       "<Figure size 576x288 with 2 Axes>"
      ]
     },
     "metadata": {
      "needs_background": "light"
     },
     "output_type": "display_data"
    }
   ],
   "source": [
    "list_model = [\n",
    "#     'unet_cochlear_human',\n",
    "#     'unet_A123',\n",
    "#     'unet_waveform',\n",
    "#     'unet_R123',\n",
    "    \n",
    "#     'unet_cochlear_human',\n",
    "#     'unet_cochlear_linear',\n",
    "#     'unet_cochlear_reverse',\n",
    "#     'unet_cochlear_human_n05',\n",
    "#     'unet_cochlear_human_n10',\n",
    "#     'unet_cochlear_human_n20',\n",
    "#     'unet_cochlear_human_n80',\n",
    "    \n",
    "    'unprocessed_input',\n",
    "]\n",
    "\n",
    "map_kwargs_plot_update = {\n",
    "#     'unet_A123': {'label': 'AudioSet deep\\nfeatures', 'color': '#7570b3', 'ls': '-'},\n",
    "#     'unet_R123': {'label': 'Random deep\\nfeatures', 'color': '#e7298a', 'ls': '-'},\n",
    "#     'unet_cochlear_human': {'label': 'Cochlear model', 'color': '#d95f02', 'ls': '-', 'zorder':10},\n",
    "#     'unet_waveform': {'label': 'Waveform', 'color': '#1b9e77', 'ls': '-'},\n",
    "#     'unprocessed_input': {'label': 'Unprocessed input', 'color': 'k', 'ls': '--', 'dashes': (0.3, 1)},\n",
    "    \n",
    "    'unet_cochlear_human': {'label': 'Cochlear model with\\nhuman freq. tuning', 'color': '#d95f02', 'ls': '-'},\n",
    "    'unet_cochlear_linear': {'label': 'Cochlear model with\\nlinear freq. tuning', 'color': '#e78ac3', 'ls': '-'},\n",
    "\n",
    "    'unet_cochlear_reverse': {'label': 'Cochlear model with\\nreversed freq. tuning', 'color': '#66c2a5', 'ls': '-'},\n",
    "#     'unet_cochlear_human_n05': {'label': 'Cochlear model\\n(only 5 freq. channels)', 'color': 'b', 'ls': '-', 'zorder':10},\n",
    "\n",
    "    'unprocessed_input': {'label': 'Unprocessed input', 'color': 'k', 'ls': '--', 'dashes': (0.3, 1)},}\n",
    "\n",
    "fig, ax_arr = plt.subplots(figsize=(8,4), nrows=1, ncols=2, gridspec_kw={'width_ratios': [3,2]})\n",
    "ax = ax_arr[0]\n",
    "\n",
    "for model in list_model:\n",
    "    df_tmp_tmp = df_tmp[df_tmp['model'] == model]\n",
    "    x = df_tmp_tmp['snr'].values\n",
    "    y = df_tmp_tmp['naturalness']['mean'].values\n",
    "    yerr = df_tmp_tmp['naturalness']['sem'].values\n",
    "    kwargs_plot = {\n",
    "        'yerr': yerr,\n",
    "        'label': model,\n",
    "        'lw': 4,\n",
    "        'elinewidth': 1,\n",
    "        'capsize': 2,\n",
    "    }\n",
    "    kwargs_plot.update(map_kwargs_plot_update.get(model, {}))\n",
    "    ax.errorbar(x, y, **kwargs_plot)\n",
    "\n",
    "ax.set_xlim([-11, 11])\n",
    "ax.set_ylim([1, 7])\n",
    "ax.set_xticks([-10, -5, 0, 5, 10])\n",
    "ax.set_yticks([1, 2, 3, 4, 5, 6, 7])\n",
    "ax.set_xlabel('Signal-to-noise ratio (dB)', fontsize=16, labelpad=8, fontweight='bold')\n",
    "ax.set_ylabel('Naturalness rating', fontsize=16, labelpad=8, fontweight='bold')\n",
    "\n",
    "major_tick_params_kwargs = {\n",
    "    'axis': 'both',\n",
    "    'which': 'major',\n",
    "    'labelsize': 16,\n",
    "    'length': 8,\n",
    "    'direction': 'out',\n",
    "}\n",
    "ax.tick_params(**major_tick_params_kwargs)\n",
    "ax.grid(linewidth=0.1, color='k')\n",
    "for spine_key in ['top', 'right']:\n",
    "    ax.spines[spine_key].set_visible(False)\n",
    "\n",
    "for spine_key in ['top', 'right', 'bottom', 'left']:\n",
    "    ax_arr[1].spines[spine_key].set_visible(False)\n",
    "ax_arr[1].set_xticks([])\n",
    "ax_arr[1].set_yticks([])\n",
    "\n",
    "legend_kwargs = {\n",
    "    'loc': 'center',\n",
    "    'borderpad': 0,\n",
    "    'borderaxespad': 0,\n",
    "    'handletextpad': 0.8,\n",
    "    'frameon': False,\n",
    "    'handlelength': 1.2,\n",
    "    'markerscale': 1.0,\n",
    "    'fontsize': 16,\n",
    "    'labelspacing': 1.2\n",
    "}\n",
    "\n",
    "handles, labels = ax.get_legend_handles_labels()\n",
    "handles = [h[0] for h in handles]\n",
    "leg = ax_arr[1].legend(handles, labels, **legend_kwargs)\n",
    "for legobj in leg.legendHandles:\n",
    "    legobj.set_linewidth(6)\n",
    "\n",
    "ax_arr[1].set_title('Audio transform loss:', fontsize=16, fontweight='bold')\n",
    "\n",
    "plt.show()\n"
   ]
  },
  {
   "cell_type": "code",
   "execution_count": 89,
   "metadata": {},
   "outputs": [
    {
     "name": "stdout",
     "output_type": "stream",
     "text": [
      "[make_cos_filters_nx] using filter_spacing=`linear`\n"
     ]
    },
    {
     "data": {
      "image/png": "[encoded data removed]",
      "text/plain": [
       "<Figure size 230.4x54 with 1 Axes>"
      ]
     },
     "metadata": {
      "needs_background": "light"
     },
     "output_type": "display_data"
    }
   ],
   "source": [
    "\n",
    "# str_title='Human frequency tuning'; color='#d95f02'; filter_spacing='erb'\n",
    "str_title='Linear frequency tuning'; color='#e78ac3'; filter_spacing='linear'\n",
    "# str_title='Reversed frequency tuning'; color='#66c2a5'; filter_spacing='erb_r'\n",
    "\n",
    "filts, center_freqs, freqs = util_cochlear_model.make_cos_filters_nx(\n",
    "    signal_length=40000,\n",
    "    sr=20000,\n",
    "    n=40,\n",
    "    low_lim=20,\n",
    "    hi_lim=8000,\n",
    "    sample_factor=1,\n",
    "    padding_size=None,\n",
    "    full_filter=False,\n",
    "    strict=True,\n",
    "    bandwidth_scale_factor=1.0,\n",
    "    include_lowpass=False,\n",
    "    include_highpass=False,\n",
    "    filter_spacing=filter_spacing)\n",
    "\n",
    "fig, ax = plt.subplots(figsize=(3.2, 0.75))\n",
    "\n",
    "for itr_ch in range(filts.shape[1]):\n",
    "    kwargs_plot = {\n",
    "        'color': color,\n",
    "        'lw': 1.0,\n",
    "    }\n",
    "    ax.plot(freqs, filts[:, itr_ch], **kwargs_plot)\n",
    "\n",
    "ax.set_xlim([0, 8000*1.02])\n",
    "ax.set_ylim([0, 1.06])\n",
    "ax.set_xticks(np.arange(0, 8001, 1000))\n",
    "ax.set_yticks(np.arange(0, 1.01, 0.5))\n",
    "ax.set_xticklabels([])\n",
    "ax.set_yticklabels([])\n",
    "ax.set_xlabel('Frequency', fontsize=12)\n",
    "ax.set_ylabel('Gain', fontsize=12)\n",
    "\n",
    "major_tick_params_kwargs = {\n",
    "    'axis': 'both',\n",
    "    'which': 'major',\n",
    "    'length': 6,\n",
    "    'direction': 'out',\n",
    "}\n",
    "ax.tick_params(**major_tick_params_kwargs)\n",
    "\n",
    "for spine_key in ['top', 'right']:\n",
    "    ax.spines[spine_key].set_visible(False)\n",
    "    \n",
    "ax.set_title(str_title, fontsize=12, fontweight='bold', color=color)\n",
    "\n",
    "plt.show()\n"
   ]
  },
  {
   "cell_type": "code",
   "execution_count": 224,
   "metadata": {},
   "outputs": [
    {
     "data": {
      "image/png": "[encoded data removed]",
      "text/plain": [
       "<Figure size 216x96 with 1 Axes>"
      ]
     },
     "metadata": {},
     "output_type": "display_data"
    },
    {
     "data": {
      "image/png": "[encoded data removed]",
      "text/plain": [
       "<Figure size 216x96 with 1 Axes>"
      ]
     },
     "metadata": {},
     "output_type": "display_data"
    },
    {
     "data": {
      "image/png": "[encoded data removed]",
      "text/plain": [
       "<Figure size 216x96 with 1 Axes>"
      ]
     },
     "metadata": {},
     "output_type": "display_data"
    }
   ],
   "source": [
    "sr, y0 = scipy.io.wavfile.read(glob.glob('ex*_modelUnprocessedInput.wav')[0])\n",
    "sr, y1 = scipy.io.wavfile.read(glob.glob('ex*_modelA123.wav')[0])\n",
    "t = np.arange(0, y0.shape[0]) / sr\n",
    "\n",
    "IDX = np.logical_and(t > 0.6, t<=1.2)\n",
    "y0 = y0[IDX]\n",
    "y1 = y1[IDX]\n",
    "t = t[IDX]\n",
    "dist_y = np.abs(y1 - y0)\n",
    "\n",
    "figsize = (9/3, 4/3)\n",
    "\n",
    "fig, ax = plt.subplots(figsize=figsize)\n",
    "ax.plot(t, y0, color=np.array([0, 0, 0]) / 256)\n",
    "ax.set_xlim([t[0], t[-1]])\n",
    "ax.set_xticks([])\n",
    "ax.set_yticks([])\n",
    "for spine_key in ['top', 'right', 'left', 'bottom']:\n",
    "    ax.spines[spine_key].set_visible(False)\n",
    "plt.show()\n",
    "\n",
    "fig, ax = plt.subplots(figsize=figsize)\n",
    "ax.plot(t, y1, color=np.array([228, 151, 81]) / 256)\n",
    "ax.set_xlim([t[0], t[-1]])\n",
    "ax.set_xticks([])\n",
    "ax.set_yticks([])\n",
    "for spine_key in ['top', 'right', 'left', 'bottom']:\n",
    "    ax.spines[spine_key].set_visible(False)\n",
    "plt.show()\n",
    "\n",
    "fig, ax = plt.subplots(figsize=figsize)\n",
    "ax.fill_between(t, dist_y, y2=0, color=np.array([109, 30, 20]) / 256)\n",
    "ax.set_xlim([t[0], t[-1]])\n",
    "ax.set_ylim([0, None])\n",
    "ax.set_xticks([])\n",
    "ax.set_yticks([])\n",
    "for spine_key in ['top', 'right']:\n",
    "    ax.spines[spine_key].set_visible(False)\n",
    "for spine_key in ['left', 'bottom']:\n",
    "    ax.spines[spine_key].set_linewidth(2)\n",
    "plt.show()\n"
   ]
  },
  {
   "cell_type": "code",
   "execution_count": 222,
   "metadata": {},
   "outputs": [],
   "source": [
    "sr, y0 = scipy.io.wavfile.read(glob.glob('ex*_modelUnprocessedInput.wav')[0])\n",
    "sr, y1 = scipy.io.wavfile.read(glob.glob('ex*_modelA123.wav')[0])\n",
    "\n",
    "np.random.seed(858)\n",
    "\n",
    "act_y0 = []\n",
    "act_y1 = []\n",
    "\n",
    "for _ in range(200):\n",
    "    IDX = np.random.randint(0, 40000, size=[5])\n",
    "    act_y0.append( np.abs(y0[IDX]).sum() )\n",
    "    act_y1.append( np.abs(y1[IDX]).sum() )\n",
    "act_y0 = np.array(act_y0)\n",
    "act_y1 = np.array(act_y1)\n",
    "dist_y = np.abs(act_y0-act_y1)\n",
    "t = np.arange(0, len(act_y0))\n"
   ]
  },
  {
   "cell_type": "code",
   "execution_count": 223,
   "metadata": {},
   "outputs": [
    {
     "data": {
      "image/png": "[encoded data removed]",
      "text/plain": [
       "<Figure size 648x216 with 1 Axes>"
      ]
     },
     "metadata": {},
     "output_type": "display_data"
    }
   ],
   "source": [
    "color = np.array([228, 151, 81]) / 256\n",
    "y = act_y1\n",
    "# color = 'k'\n",
    "# y = act_y0\n",
    "# color = np.array([109, 30, 20]) / 256\n",
    "# y = dist_y\n",
    "\n",
    "fig, ax = plt.subplots(figsize=(9, 3), nrows=1, ncols=1)\n",
    "\n",
    "markerline, stemlines, baseline = plt.stem(t, y, markerfmt='.')\n",
    "plt.setp(baseline, 'color', 'k')\n",
    "plt.setp(markerline, 'color', color)\n",
    "plt.setp(markerline, 'markersize', 4)\n",
    "plt.setp(stemlines, 'color', plt.getp(markerline,'color'))\n",
    "plt.setp(stemlines, 'linewidth', 1)\n",
    "\n",
    "ax.set_xlim([t[0]-2, t[-1]+2])\n",
    "ax.set_ylim([0, np.max([act_y0.max(), act_y1.max()])])\n",
    "ax.set_xticks([])\n",
    "ax.set_yticks([])\n",
    "for spine_key in ['top', 'right']:\n",
    "    ax.spines[spine_key].set_visible(False)\n",
    "for spine_key in ['left', 'bottom']:\n",
    "    ax.spines[spine_key].set_linewidth(2)\n",
    "\n",
    "plt.show()\n"
   ]
  },
  {
   "cell_type": "code",
   "execution_count": null,
   "metadata": {},
   "outputs": [],
   "source": []
  }
 ],
 "metadata": {
  "kernelspec": {
   "display_name": "Python 3",
   "language": "python",
   "name": "python3"
  },
  "language_info": {
   "codemirror_mode": {
    "name": "ipython",
    "version": 3
   },
   "file_extension": ".py",
   "mimetype": "text/x-python",
   "name": "python",
   "nbconvert_exporter": "python",
   "pygments_lexer": "ipython3",
   "version": "3.5.2"
  }
 },
 "nbformat": 4,
 "nbformat_minor": 2
}
