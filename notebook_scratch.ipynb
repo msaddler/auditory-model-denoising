{
 "cells": [
  {
   "cell_type": "code",
   "execution_count": 38,
   "metadata": {},
   "outputs": [
    {
     "data": {
      "text/plain": [
       "'models/recognition_networks/arch3_taskA.ckpt-980000'"
      ]
     },
     "execution_count": 38,
     "metadata": {},
     "output_type": "execute_result"
    }
   ],
   "source": [
    "import os\n",
    "import sys\n",
    "import importlib\n",
    "import json\n",
    "import glob\n",
    "import numpy as np\n",
    "import tensorflow as tf\n",
    "\n",
    "import util_recognition_network\n",
    "\n",
    "# fn_ckpt = 'models/recognition_networks/arch2_taskA.ckpt-950000'\n",
    "# fn_arch = 'models/recognition_networks/arch2.json'\n",
    "\n",
    "fn_ckpt = 'models/recognition_networks/arch3_taskA.ckpt*'\n",
    "fn_ckpt = glob.glob(fn_ckpt)[-1].replace('.index', '')\n",
    "fn_arch = 'models/recognition_networks/arch3.json'\n",
    "\n",
    "with open(fn_arch, 'r') as f_arch:\n",
    "    list_layer_dict = json.load(f_arch)\n",
    "\n",
    "fn_ckpt\n"
   ]
  },
  {
   "cell_type": "code",
   "execution_count": 39,
   "metadata": {
    "scrolled": true
   },
   "outputs": [
    {
     "name": "stdout",
     "output_type": "stream",
     "text": [
      "INFO:tensorflow:Restoring parameters from models/recognition_networks/arch3_taskA.ckpt-980000\n"
     ]
    }
   ],
   "source": [
    "importlib.reload(util_recognition_network)\n",
    "\n",
    "tf.reset_default_graph()\n",
    "\n",
    "if 'taskA' in fn_ckpt:\n",
    "    n_classes_dict = {\"/stimuli/labels_binary_via_int\": 517}\n",
    "else:\n",
    "    n_classes_dict = {\"/stimuli/word_int\": 794}\n",
    "\n",
    "var_scope = 'brain_network'\n",
    "with tf.variable_scope(var_scope):\n",
    "    tensor_input = tf.placeholder(tf.float32, [None, 40, 20000, 1])\n",
    "    tensor_output, tensors = util_recognition_network.build_network(\n",
    "        tensor_input,\n",
    "        list_layer_dict,\n",
    "        n_classes_dict=n_classes_dict)\n",
    "\n",
    "var_list = tf.get_collection(tf.GraphKeys.GLOBAL_VARIABLES, scope=var_scope)\n",
    "dict_vars_to_save = {}\n",
    "for v in var_list:\n",
    "    key = v.name.replace('brain_network/', '').replace('fc_top_0', 'fc_top')\n",
    "    dict_vars_to_save[key] = v\n",
    "    \n",
    "saver_for_loading = tf.train.Saver(var_list=var_list, max_to_keep=0)\n",
    "saver_for_saving = tf.train.Saver(var_list=dict_vars_to_save, max_to_keep=0)\n",
    "\n",
    "with tf.Session() as sess:\n",
    "    saver_for_loading.restore(sess, fn_ckpt)\n",
    "    \n",
    "    saver_for_saving.save(\n",
    "        sess,\n",
    "        save_path=os.path.join(os.path.dirname(fn_ckpt), 'NEW_' + os.path.basename(fn_ckpt)),\n",
    "        global_step=None,\n",
    "        latest_filename=None,\n",
    "        meta_graph_suffix='meta',\n",
    "        write_meta_graph=False,\n",
    "        write_state=False,\n",
    "        strip_default_attrs=False,\n",
    "    )\n"
   ]
  },
  {
   "cell_type": "code",
   "execution_count": 31,
   "metadata": {},
   "outputs": [],
   "source": [
    "# dict_vars_to_save = {}\n",
    "\n",
    "# for v in var_list:\n",
    "#     key = v.name.replace('brain_network/', '').replace('fc_top_0', 'fc_top')\n",
    "#     dict_vars_to_save[key] = v\n",
    "#     print(key, v.name)\n"
   ]
  },
  {
   "cell_type": "code",
   "execution_count": 18,
   "metadata": {},
   "outputs": [
    {
     "data": {
      "text/plain": [
       "'models/recognition_networks/NEW_arch1_taskW.ckpt-360000'"
      ]
     },
     "execution_count": 18,
     "metadata": {},
     "output_type": "execute_result"
    }
   ],
   "source": [
    "os.path.join(os.path.dirname(fn_ckpt), 'NEW_' + os.path.basename(fn_ckpt))"
   ]
  },
  {
   "cell_type": "code",
   "execution_count": null,
   "metadata": {},
   "outputs": [],
   "source": []
  }
 ],
 "metadata": {
  "kernelspec": {
   "display_name": "Python 3",
   "language": "python",
   "name": "python3"
  }
 },
 "nbformat": 4,
 "nbformat_minor": 2
}
