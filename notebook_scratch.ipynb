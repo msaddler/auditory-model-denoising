{
 "cells": [
  {
   "cell_type": "code",
   "execution_count": 1,
   "metadata": {},
   "outputs": [
    {
     "data": {
      "text/plain": [
       "('models/recognition_networks/arch1_taskA.ckpt-550000',\n",
       " 'models/recognition_networks/arch1.json')"
      ]
     },
     "execution_count": 1,
     "metadata": {},
     "output_type": "execute_result"
    }
   ],
   "source": [
    "import os\n",
    "import sys\n",
    "import importlib\n",
    "import json\n",
    "import glob\n",
    "import numpy as np\n",
    "import tensorflow as tf\n",
    "\n",
    "import util_recognition_network\n",
    "\n",
    "ARCH = 1\n",
    "TASK = 'A'\n",
    "\n",
    "fn_ckpt = 'models/recognition_networks/arch{}_task{}.ckpt*'.format(ARCH, TASK)\n",
    "fn_ckpt = glob.glob(fn_ckpt)[-1].replace('.index', '')\n",
    "fn_arch = 'models/recognition_networks/arch{}.json'.format(ARCH)\n",
    "with open(fn_arch, 'r') as f_arch:\n",
    "    list_layer_dict = json.load(f_arch)\n",
    "\n",
    "fn_ckpt, fn_arch\n"
   ]
  },
  {
   "cell_type": "code",
   "execution_count": 2,
   "metadata": {
    "scrolled": false
   },
   "outputs": [
    {
     "name": "stdout",
     "output_type": "stream",
     "text": [
      "WARNING:tensorflow:From /usr/local/lib/python3.5/dist-packages/tensorflow/python/ops/resource_variable_ops.py:435: colocate_with (from tensorflow.python.framework.ops) is deprecated and will be removed in a future version.\n",
      "Instructions for updating:\n",
      "Colocations handled automatically by placer.\n",
      "WARNING:tensorflow:From /usr/local/lib/python3.5/dist-packages/tensorflow/python/keras/layers/core.py:143: calling dropout (from tensorflow.python.ops.nn_ops) with keep_prob is deprecated and will be removed in a future version.\n",
      "Instructions for updating:\n",
      "Please use `rate` instead of `keep_prob`. Rate should be set to `rate = 1 - keep_prob`.\n",
      "WARNING:tensorflow:From /usr/local/lib/python3.5/dist-packages/tensorflow/python/training/saver.py:1266: checkpoint_exists (from tensorflow.python.training.checkpoint_management) is deprecated and will be removed in a future version.\n",
      "Instructions for updating:\n",
      "Use standard file APIs to check for files with this prefix.\n",
      "INFO:tensorflow:Restoring parameters from models/recognition_networks/arch1_taskA.ckpt-550000\n"
     ]
    }
   ],
   "source": [
    "importlib.reload(util_recognition_network)\n",
    "\n",
    "tf.reset_default_graph()\n",
    "\n",
    "if 'taskA' in fn_ckpt:\n",
    "    n_classes_dict = {\"/stimuli/labels_binary_via_int\": 517}\n",
    "else:\n",
    "    n_classes_dict = {\"/stimuli/word_int\": 794}\n",
    "\n",
    "var_scope = ''\n",
    "with tf.variable_scope(var_scope):\n",
    "    tensor_input = tf.placeholder(tf.float32, [None, 40, 20000, 1])\n",
    "    tensor_output, tensors = util_recognition_network.build_network(\n",
    "        tensor_input,\n",
    "        list_layer_dict,\n",
    "        n_classes_dict=n_classes_dict)\n",
    "\n",
    "var_list = tf.get_collection(tf.GraphKeys.GLOBAL_VARIABLES, scope=var_scope)\n",
    "var_dict = {v.name: v for v in var_list}\n",
    "\n",
    "saver = tf.train.Saver(var_list=var_list, max_to_keep=0)\n",
    "\n",
    "with tf.Session() as sess:\n",
    "    sess.run(tf.global_variables_initializer())\n",
    "    var_dict_init = sess.run(var_dict)\n",
    "    saver.restore(sess, fn_ckpt)\n",
    "    var_dict_load = sess.run(var_dict)\n",
    "    \n",
    "#     save_path = fn_ckpt.replace('trash/', '')\n",
    "#     print('WRITING: {}'.format(save_path))\n",
    "#     saver_to_save.save(\n",
    "#         sess,\n",
    "#         save_path=save_path,\n",
    "#         global_step=None,\n",
    "#         latest_filename=None,\n",
    "#         meta_graph_suffix='meta',\n",
    "#         write_meta_graph=False,\n",
    "#         write_state=False,\n",
    "#         strip_default_attrs=False)\n"
   ]
  },
  {
   "cell_type": "code",
   "execution_count": 3,
   "metadata": {},
   "outputs": [
    {
     "name": "stdout",
     "output_type": "stream",
     "text": [
      "batch_norm_data_layer/gamma:0 1.0 0.6521536\n",
      "batch_norm_data_layer/beta:0 0.0 0.28489918\n",
      "batch_norm_data_layer/moving_mean:0 0.0 0.07441781\n",
      "batch_norm_data_layer/moving_variance:0 1.0 0.0036519007\n",
      "conv_0/kernel:0 0.00022761655 -0.0013156582\n",
      "conv_0/bias:0 0.0 0.05518339\n",
      "batch_norm_0/gamma:0 1.0 0.971154\n",
      "batch_norm_0/beta:0 0.0 0.13073234\n",
      "batch_norm_0/moving_mean:0 0.0 8.825504\n",
      "batch_norm_0/moving_variance:0 1.0 88.00698\n",
      "conv_1/kernel:0 -7.778088e-05 -0.0013969141\n",
      "conv_1/bias:0 0.0 -0.06913221\n",
      "batch_norm_1/gamma:0 1.0 0.9712571\n",
      "batch_norm_1/beta:0 0.0 0.03369005\n",
      "batch_norm_1/moving_mean:0 0.0 28.610592\n",
      "batch_norm_1/moving_variance:0 1.0 1274.1118\n",
      "conv_2/kernel:0 -3.204205e-05 -0.00080147234\n",
      "conv_2/bias:0 0.0 -0.0355425\n",
      "batch_norm_2/gamma:0 1.0 0.98170483\n",
      "batch_norm_2/beta:0 0.0 0.08105327\n",
      "batch_norm_2/moving_mean:0 0.0 5.928079\n",
      "batch_norm_2/moving_variance:0 1.0 84.02434\n",
      "conv_3/kernel:0 6.889551e-06 -0.00069066434\n",
      "conv_3/bias:0 0.0 -0.027366664\n",
      "batch_norm_3/gamma:0 1.0 0.98149884\n",
      "batch_norm_3/beta:0 0.0 0.06412983\n",
      "batch_norm_3/moving_mean:0 0.0 2.8031745\n",
      "batch_norm_3/moving_variance:0 1.0 35.417816\n",
      "conv_4/kernel:0 8.3045427e-07 -0.00026811258\n",
      "conv_4/bias:0 0.0 -0.013947021\n",
      "batch_norm_4/gamma:0 1.0 0.99087656\n",
      "batch_norm_4/beta:0 0.0 0.050838526\n",
      "batch_norm_4/moving_mean:0 0.0 0.24007568\n",
      "batch_norm_4/moving_variance:0 1.0 0.5904601\n",
      "conv_5/kernel:0 5.507337e-07 -0.00035652763\n",
      "conv_5/bias:0 0.0 -0.012601723\n",
      "batch_norm_5/gamma:0 1.0 0.9968897\n",
      "batch_norm_5/beta:0 0.0 0.031030964\n",
      "batch_norm_5/moving_mean:0 0.0 0.22721829\n",
      "batch_norm_5/moving_variance:0 1.0 0.5035522\n",
      "conv_6/kernel:0 8.106615e-07 -0.00024995144\n",
      "conv_6/bias:0 0.0 -0.00574132\n",
      "batch_norm_6/gamma:0 1.0 0.9968934\n",
      "batch_norm_6/beta:0 0.0 -0.0037332226\n",
      "batch_norm_6/moving_mean:0 0.0 25.59063\n",
      "batch_norm_6/moving_variance:0 1.0 960.5691\n",
      "fc_intermediate/kernel:0 1.6728377e-06 -0.00026588357\n",
      "fc_intermediate/bias:0 0.0 -0.0001169228\n",
      "batch_norm_fc_intermediate/gamma:0 1.0 0.9042988\n",
      "batch_norm_fc_intermediate/beta:0 0.0 -0.006743137\n",
      "batch_norm_fc_intermediate/moving_mean:0 0.0 3.3778358\n",
      "batch_norm_fc_intermediate/moving_variance:0 1.0 9.555173\n",
      "fc_top/kernel:0 -6.91135e-05 -0.0065608253\n",
      "fc_top/bias:0 0.0 -0.18309285\n"
     ]
    }
   ],
   "source": [
    "for v in var_list:\n",
    "    print(v.name, np.mean(var_dict_init[v.name]), np.mean(var_dict_load[v.name]))\n"
   ]
  },
  {
   "cell_type": "code",
   "execution_count": null,
   "metadata": {},
   "outputs": [],
   "source": []
  }
 ],
 "metadata": {
  "kernelspec": {
   "display_name": "Python 3",
   "language": "python",
   "name": "python3"
  },
  "language_info": {
   "codemirror_mode": {
    "name": "ipython",
    "version": 3
   },
   "file_extension": ".py",
   "mimetype": "text/x-python",
   "name": "python",
   "nbconvert_exporter": "python",
   "pygments_lexer": "ipython3",
   "version": "3.5.2"
  }
 },
 "nbformat": 4,
 "nbformat_minor": 2
}
