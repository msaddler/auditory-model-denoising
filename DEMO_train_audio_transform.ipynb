{
 "cells": [
  {
   "cell_type": "code",
   "execution_count": 13,
   "metadata": {},
   "outputs": [
    {
     "data": {
      "text/plain": [
       "<module 'util_auditory_model_loss' from '/rdma/vast-rdma/vast/mcdermott/msaddler/auditory-model-denoising/util_auditory_model_loss.py'>"
      ]
     },
     "execution_count": 13,
     "metadata": {},
     "output_type": "execute_result"
    }
   ],
   "source": [
    "import os\n",
    "import sys\n",
    "import glob\n",
    "import numpy as np\n",
    "import tensorflow as tf\n",
    "import importlib\n",
    "import IPython.display as ipd\n",
    "\n",
    "import util_audio_transform\n",
    "import util_auditory_model_loss\n",
    "import util_cochlear_model\n",
    "import util_recognition_network\n",
    "\n",
    "importlib.reload(util_auditory_model_loss)\n"
   ]
  },
  {
   "cell_type": "code",
   "execution_count": 14,
   "metadata": {},
   "outputs": [],
   "source": [
    "filenames = glob.glob('data/toy_dataset*.tfrecords')\n",
    "batch_size = 8\n",
    "feature_description = {\n",
    "    'background/signal': tf.io.FixedLenFeature([], tf.string, default_value=None),\n",
    "    'foreground/signal': tf.io.FixedLenFeature([], tf.string, default_value=None),\n",
    "}\n",
    "bytes_description = {\n",
    "    'background/signal': {'dtype': tf.float32, 'shape': [40000]}, \n",
    "    'foreground/signal': {'dtype': tf.float32, 'shape': [40000]},\n",
    "}\n",
    "\n",
    "def parse_tfrecord(tfrecord):\n",
    "    tfrecord = tf.parse_single_example(tfrecord, features=feature_description)\n",
    "    for key in bytes_description.keys():\n",
    "        tfrecord[key] = tf.decode_raw(tfrecord[key], bytes_description[key]['dtype'])\n",
    "        tfrecord[key] = tf.reshape(tfrecord[key], bytes_description[key]['shape'])\n",
    "    return tfrecord\n",
    "\n",
    "\n",
    "tf.reset_default_graph()\n",
    "tf.random.set_random_seed(0)\n",
    "\n",
    "dataset = tf.data.TFRecordDataset(filenames=filenames, compression_type='GZIP')\n",
    "dataset = dataset.map(parse_tfrecord)\n",
    "dataset = dataset.batch(batch_size)\n",
    "dataset = dataset.prefetch(buffer_size=4)\n",
    "dataset = dataset.shuffle(buffer_size=32)\n",
    "dataset = dataset.repeat(count=None)\n",
    "\n",
    "iterator = dataset.make_one_shot_iterator()\n",
    "input_tensor_dict = iterator.get_next()\n"
   ]
  },
  {
   "cell_type": "code",
   "execution_count": 15,
   "metadata": {},
   "outputs": [
    {
     "name": "stdout",
     "output_type": "stream",
     "text": [
      "0 recognition networks included for deep feature loss:\n",
      "Building waveform loss\n",
      "Building cochlear model loss\n",
      "[make_cos_filters_nx] using filter_spacing=`erb`\n",
      "[make_cos_filters_nx] using filter_spacing=`erb`\n"
     ]
    }
   ],
   "source": [
    "tensor_waveform_noisy = input_tensor_dict['foreground/signal']\n",
    "tensor_waveform_clean = input_tensor_dict['foreground/signal']\n",
    "with tf.variable_scope('audio_transform'):\n",
    "    tensor_waveform_denoised = util_audio_transform.build_unet(tensor_waveform_noisy)\n",
    "\n",
    "list_recognition_networks = [\n",
    "#     'arch1_taskA',\n",
    "#     'arch2_taskA',\n",
    "#     'arch3_taskA',\n",
    "]\n",
    "auditory_model = util_auditory_model_loss.AuditoryModelLoss(\n",
    "    list_recognition_networks=list_recognition_networks,\n",
    "    tensor_wave0=tensor_waveform_clean,\n",
    "    tensor_wave1=tensor_waveform_denoised)\n",
    "\n",
    "transform_var_list = tf.get_collection(tf.GraphKeys.GLOBAL_VARIABLES, scope='audio_transform')\n",
    "# transform_saver = tf.train.Saver(var_list=transform_var_list, max_to_keep=0)\n",
    "\n",
    "loss = auditory_model.loss_waveform\n",
    "optimizer = tf.train.AdamOptimizer(learning_rate=1e-4)\n",
    "train_op = optimizer.minimize(\n",
    "    loss=loss,\n",
    "    global_step=None,\n",
    "    var_list=transform_var_list)\n"
   ]
  },
  {
   "cell_type": "code",
   "execution_count": null,
   "metadata": {},
   "outputs": [
    {
     "name": "stdout",
     "output_type": "stream",
     "text": [
      "0 4563.756\n",
      "50 1410.4463\n",
      "100 817.84216\n",
      "150 814.09973\n",
      "200 564.2228\n",
      "250 618.8761\n"
     ]
    }
   ],
   "source": [
    "with tf.Session() as sess:\n",
    "#     example = sess.run(iterator.get_next())\n",
    "#     for k in example.keys():\n",
    "#         print(k, example[k].dtype, example[k].shape)\n",
    "    sess.run(tf.global_variables_initializer())\n",
    "    auditory_model.load_auditory_model_vars(sess)\n",
    "    \n",
    "    for itr0 in range(1000):\n",
    "        _, batch_loss = sess.run([train_op, loss])\n",
    "        if itr0 % 50 == 0:\n",
    "            print(itr0, batch_loss.sum())\n"
   ]
  },
  {
   "cell_type": "code",
   "execution_count": null,
   "metadata": {},
   "outputs": [],
   "source": []
  }
 ],
 "metadata": {
  "kernelspec": {
   "display_name": "Python 3",
   "language": "python",
   "name": "python3"
  },
  "language_info": {
   "codemirror_mode": {
    "name": "ipython",
    "version": 3
   },
   "file_extension": ".py",
   "mimetype": "text/x-python",
   "name": "python",
   "nbconvert_exporter": "python",
   "pygments_lexer": "ipython3",
   "version": "3.5.2"
  }
 },
 "nbformat": 4,
 "nbformat_minor": 2
}
