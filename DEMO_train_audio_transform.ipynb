{
 "cells": [
  {
   "cell_type": "code",
   "execution_count": 25,
   "metadata": {},
   "outputs": [
    {
     "data": {
      "text/plain": [
       "<module 'util_auditory_model_loss' from '/rdma/vast-rdma/vast/mcdermott/msaddler/auditory-model-denoising/util_auditory_model_loss.py'>"
      ]
     },
     "execution_count": 25,
     "metadata": {},
     "output_type": "execute_result"
    }
   ],
   "source": [
    "import os\n",
    "import sys\n",
    "import glob\n",
    "import numpy as np\n",
    "import tensorflow as tf\n",
    "import importlib\n",
    "import IPython.display as ipd\n",
    "\n",
    "import util_audio_transform\n",
    "import util_auditory_model_loss\n",
    "import util_cochlear_model\n",
    "import util_recognition_network\n",
    "\n",
    "importlib.reload(util_auditory_model_loss)\n"
   ]
  },
  {
   "cell_type": "code",
   "execution_count": 26,
   "metadata": {},
   "outputs": [],
   "source": [
    "filenames = glob.glob('data/toy_dataset*.tfrecords')\n",
    "batch_size = 8\n",
    "feature_description = {\n",
    "    'background/signal': tf.io.FixedLenFeature([], tf.string, default_value=None),\n",
    "    'foreground/signal': tf.io.FixedLenFeature([], tf.string, default_value=None),\n",
    "}\n",
    "bytes_description = {\n",
    "    'background/signal': {'dtype': tf.float32, 'shape': [40000]}, \n",
    "    'foreground/signal': {'dtype': tf.float32, 'shape': [40000]},\n",
    "}\n",
    "\n",
    "def parse_tfrecord(tfrecord):\n",
    "    tfrecord = tf.parse_single_example(tfrecord, features=feature_description)\n",
    "    for key in bytes_description.keys():\n",
    "        tfrecord[key] = tf.decode_raw(tfrecord[key], bytes_description[key]['dtype'])\n",
    "        tfrecord[key] = tf.reshape(tfrecord[key], bytes_description[key]['shape'])\n",
    "    return tfrecord\n",
    "\n",
    "\n",
    "tf.reset_default_graph()\n",
    "tf.random.set_random_seed(0)\n",
    "\n",
    "dataset = tf.data.TFRecordDataset(filenames=filenames, compression_type='GZIP')\n",
    "dataset = dataset.map(parse_tfrecord)\n",
    "dataset = dataset.batch(batch_size)\n",
    "dataset = dataset.prefetch(buffer_size=4)\n",
    "dataset = dataset.shuffle(buffer_size=32)\n",
    "dataset = dataset.repeat(count=None)\n",
    "\n",
    "iterator = dataset.make_one_shot_iterator()\n",
    "input_tensor_dict = iterator.get_next()\n"
   ]
  },
  {
   "cell_type": "code",
   "execution_count": 30,
   "metadata": {},
   "outputs": [
    {
     "name": "stdout",
     "output_type": "stream",
     "text": [
      "3 recognition networks included for deep feature loss:\n",
      "|__ arch1_taskA: models/recognition_networks/arch1_taskA.ckpt-550000\n",
      "|__ arch2_taskA: models/recognition_networks/arch2_taskA.ckpt-950000\n",
      "|__ arch3_taskA: models/recognition_networks/arch3_taskA.ckpt-980000\n",
      "Building waveform loss\n",
      "Building cochlear model loss\n",
      "[make_cos_filters_nx] using filter_spacing=`erb`\n",
      "[make_cos_filters_nx] using filter_spacing=`erb`\n",
      "Building deep feature loss (recognition network: arch1_taskA)\n",
      "Building deep feature loss (recognition network: arch2_taskA)\n",
      "Building deep feature loss (recognition network: arch3_taskA)\n"
     ]
    },
    {
     "data": {
      "text/plain": [
       "(<tf.Tensor 'Sum_25:0' shape=(?,) dtype=float32>,\n",
       " <tf.Tensor 'Sum_26:0' shape=(?,) dtype=float32>,\n",
       " <tf.Tensor 'add_51:0' shape=(?,) dtype=float32>)"
      ]
     },
     "execution_count": 30,
     "metadata": {},
     "output_type": "execute_result"
    }
   ],
   "source": [
    "tensor_waveform_noisy = input_tensor_dict['foreground/signal']\n",
    "tensor_waveform_clean = input_tensor_dict['foreground/signal']\n",
    "\n",
    "with tf.variable_scope('audio_transform'):\n",
    "    tensor_waveform_denoised = util_audio_transform.build_unet(\n",
    "        tensor_waveform_noisy,\n",
    "        signal_rate=20000,\n",
    "        UNET_PARAMS={})\n",
    "\n",
    "list_recognition_networks = [\n",
    "    'arch1_taskA',\n",
    "#     'arch1_taskR',\n",
    "#     'arch1_taskW',\n",
    "    'arch2_taskA',\n",
    "#     'arch2_taskR',\n",
    "#     'arch2_taskW',\n",
    "    'arch3_taskA',\n",
    "#     'arch3_taskR',\n",
    "#     'arch3_taskW',\n",
    "]\n",
    "auditory_model_loss = util_auditory_model_loss.AuditoryModelLoss(\n",
    "    list_recognition_networks=list_recognition_networks,\n",
    "    tensor_wave0=tensor_waveform_clean,\n",
    "    tensor_wave1=tensor_waveform_denoised)\n",
    "\n",
    "auditory_model_loss.loss_waveform, auditory_model_loss.loss_cochlear_model, auditory_model_loss.loss_deep_features\n",
    "\n",
    "# var_list = tf.get_collection(tf.GraphKeys.GLOBAL_VARIABLES, scope='audio_transform')\n",
    "# saver = tf.train.Saver(var_list=var_list, max_to_keep=0)\n",
    "# var_list\n"
   ]
  },
  {
   "cell_type": "code",
   "execution_count": 32,
   "metadata": {},
   "outputs": [
    {
     "name": "stdout",
     "output_type": "stream",
     "text": [
      "[0. 0. 0. 0. 0. 0. 0. 0.]\n"
     ]
    }
   ],
   "source": [
    "with tf.Session() as sess:\n",
    "#     example = sess.run(iterator.get_next())\n",
    "#     for k in example.keys():\n",
    "#         print(k, example[k].dtype, example[k].shape)\n",
    "    sess.run(tf.global_variables_initializer())\n",
    "    print(sess.run(auditory_model_loss.loss_waveform))\n"
   ]
  },
  {
   "cell_type": "code",
   "execution_count": null,
   "metadata": {},
   "outputs": [],
   "source": []
  }
 ],
 "metadata": {
  "kernelspec": {
   "display_name": "Python 3",
   "language": "python",
   "name": "python3"
  },
  "language_info": {
   "codemirror_mode": {
    "name": "ipython",
    "version": 3
   },
   "file_extension": ".py",
   "mimetype": "text/x-python",
   "name": "python",
   "nbconvert_exporter": "python",
   "pygments_lexer": "ipython3",
   "version": "3.5.2"
  }
 },
 "nbformat": 4,
 "nbformat_minor": 2
}
